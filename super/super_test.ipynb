{
 "cells": [
  {
   "cell_type": "markdown",
   "metadata": {},
   "source": [
    "# ``super()`` behavior:\n",
    "\n",
    "What gets called?, and when does it get called?\n",
    "\n",
    "or:\n",
    "\n",
    "### What does super() really do?\n",
    "\n",
    "## The three \"rules\" of super():\n",
    "\n",
    "Raymond Hettinger's rules for ``super()``\n",
    "\n",
    "1. The method being called by super() needs to exist.\n",
    "\n",
    "2. The caller and callee need to have a matching argument signature.\n",
    "\n",
    "3. Every occurrence of the method needs to use super()\n",
    "\n",
    "And a key point:\n",
    "\n",
    "Using `super()` is *part* of the interface of the class. Anything that subclasses from your class needs to know that super was used."
   ]
  },
  {
   "cell_type": "code",
   "execution_count": 1,
   "metadata": {},
   "outputs": [],
   "source": [
    "class A():\n",
    "    def __init__(self):\n",
    "        print(\"in A __init__\")\n",
    "        print(\"self's class is:\", self.__class__)\n",
    "        s = super().__init__()\n",
    "\n",
    "class B():\n",
    "    def __init__(self):\n",
    "        print(\"in B.__init__\")\n",
    "        print(\"self's class is:\", self.__class__)\n",
    "        s = super().__init__()\n",
    "\n",
    "class C():\n",
    "    def __init__(self):\n",
    "        print(\"in C.__init__\")\n",
    "        print(\"self's class is:\", self.__class__)\n",
    "        s = super().__init__()\n",
    "\n",
    "class D(C, B, A):\n",
    "    def __init__(self):\n",
    "        print(\"in D.__init__\")\n",
    "        print(\"self's class is:\", self.__class__)\n",
    "        super().__init__()\n",
    "        "
   ]
  },
  {
   "cell_type": "code",
   "execution_count": 2,
   "metadata": {},
   "outputs": [
    {
     "name": "stdout",
     "output_type": "stream",
     "text": [
      "D's mro:\n",
      "<class '__main__.D'>\n",
      "<class '__main__.C'>\n",
      "<class '__main__.B'>\n",
      "<class '__main__.A'>\n",
      "<class 'object'>\n"
     ]
    }
   ],
   "source": [
    "# take a look at D's method resolution order:\n",
    "print(\"D's mro:\")\n",
    "for c in D.__mro__:\n",
    "    print(c)"
   ]
  },
  {
   "cell_type": "code",
   "execution_count": 3,
   "metadata": {},
   "outputs": [
    {
     "name": "stdout",
     "output_type": "stream",
     "text": [
      "in D.__init__\n",
      "self's class is: <class '__main__.D'>\n",
      "in C.__init__\n",
      "self's class is: <class '__main__.D'>\n",
      "in B.__init__\n",
      "self's class is: <class '__main__.D'>\n",
      "in A __init__\n",
      "self's class is: <class '__main__.D'>\n"
     ]
    }
   ],
   "source": [
    "# What happens when you initilize a D object\n",
    "d = D()"
   ]
  },
  {
   "cell_type": "markdown",
   "metadata": {},
   "source": [
    "## super's parameters\n",
    "\n",
    "To do its thing, super() needs to know two things:\n",
    "\n",
    "1) It needs to know that type (class) that you want the super-classes of\n",
    "\n",
    "2) It needs to know the actual object instance at the time it is called.\n",
    "\n",
    "In fact, in Python 2, you had to explicitly tell super what these were:\n",
    "\n",
    "``super(type, obj)``\n",
    "\n",
    "python3 fills these in for you at run time, but in python2, you needed to specify them, calling it like so:\n",
    "\n",
    "```\n",
    "class A(object):\n",
    "    def __init__(self):\n",
    "        super(A, self).__init__()\n",
    "```\n",
    "\n",
    "But why do you need BOTH `A` and `self`? -- isn't `self` an instance of `A`?\n",
    "\n",
    "Not neccesarily -- if A's method is being called from a subclass, then `self` will be an instance of the subclass. `super()` requires that the object be an instance of the class (or a subclass).\n",
    "\n",
    "This distiction will come up later....\n",
    "\n",
    "Again, py3 takes care of this for you, though you CAN still spell it out."
   ]
  },
  {
   "cell_type": "code",
   "execution_count": 4,
   "metadata": {},
   "outputs": [],
   "source": [
    "super?"
   ]
  },
  {
   "cell_type": "code",
   "execution_count": 5,
   "metadata": {},
   "outputs": [
    {
     "name": "stdout",
     "output_type": "stream",
     "text": [
      "<super: <class 'C'>, <D object>>\n"
     ]
    }
   ],
   "source": [
    "# you can call super outside of a class definiton is you pass in the\n",
    "# type and instance:\n",
    "\n",
    "s_c = super(C, d)\n",
    "print(s_c)"
   ]
  },
  {
   "cell_type": "markdown",
   "metadata": {},
   "source": [
    "This works because `d` is a `D` object, which is a subclass of `C`."
   ]
  },
  {
   "cell_type": "code",
   "execution_count": 6,
   "metadata": {},
   "outputs": [
    {
     "name": "stdout",
     "output_type": "stream",
     "text": [
      "in C.__init__\n",
      "self's class is: <class '__main__.C'>\n"
     ]
    }
   ],
   "source": [
    "c = C()"
   ]
  },
  {
   "cell_type": "code",
   "execution_count": 7,
   "metadata": {},
   "outputs": [
    {
     "ename": "TypeError",
     "evalue": "super(type, obj): obj must be an instance or subtype of type",
     "output_type": "error",
     "traceback": [
      "\u001b[0;31m---------------------------------------------------------------------------\u001b[0m",
      "\u001b[0;31mTypeError\u001b[0m                                 Traceback (most recent call last)",
      "\u001b[0;32m<ipython-input-7-be5ca064ab8b>\u001b[0m in \u001b[0;36m<module>\u001b[0;34m()\u001b[0m\n\u001b[1;32m      1\u001b[0m \u001b[0;31m# try an invalid relationship:\u001b[0m\u001b[0;34m\u001b[0m\u001b[0;34m\u001b[0m\u001b[0m\n\u001b[0;32m----> 2\u001b[0;31m \u001b[0msuper\u001b[0m\u001b[0;34m(\u001b[0m\u001b[0mD\u001b[0m\u001b[0;34m,\u001b[0m \u001b[0mc\u001b[0m\u001b[0;34m)\u001b[0m\u001b[0;34m\u001b[0m\u001b[0m\n\u001b[0m",
      "\u001b[0;31mTypeError\u001b[0m: super(type, obj): obj must be an instance or subtype of type"
     ]
    }
   ],
   "source": [
    "# try an invalid relationship:\n",
    "super(D, c)\n"
   ]
  },
  {
   "cell_type": "markdown",
   "metadata": {},
   "source": [
    "This fails: `C` is NOT a subclass of `D`"
   ]
  },
  {
   "cell_type": "code",
   "execution_count": 8,
   "metadata": {},
   "outputs": [
    {
     "name": "stdout",
     "output_type": "stream",
     "text": [
      "<super: <class 'A'>, <D object>>\n"
     ]
    }
   ],
   "source": [
    "s_a = super(A, d)\n",
    "print(s_a)"
   ]
  },
  {
   "cell_type": "code",
   "execution_count": 9,
   "metadata": {},
   "outputs": [
    {
     "name": "stdout",
     "output_type": "stream",
     "text": [
      "<super: <class 'B'>, <D object>>\n"
     ]
    }
   ],
   "source": [
    "s_b = super(B, d)\n",
    "print(s_b)"
   ]
  },
  {
   "cell_type": "code",
   "execution_count": 10,
   "metadata": {},
   "outputs": [
    {
     "name": "stdout",
     "output_type": "stream",
     "text": [
      "(<class '__main__.D'>, <class '__main__.C'>, <class '__main__.B'>, <class '__main__.A'>, <class 'object'>)\n"
     ]
    }
   ],
   "source": [
    "print(D.__mro__)"
   ]
  },
  {
   "cell_type": "markdown",
   "metadata": {},
   "source": [
    "## Rule 3: Use super() everywhere.\n",
    "\n",
    "This is key: if you want to use super() in a subclass, it needs to be used in all the superclasses:"
   ]
  },
  {
   "cell_type": "code",
   "execution_count": 11,
   "metadata": {},
   "outputs": [],
   "source": [
    "# without super() at all -- calling each subclass' method explicitly:\n",
    "\n",
    "class A():\n",
    "    def this(self):\n",
    "        print(\"in A.this\")\n",
    "\n",
    "class B():\n",
    "    def this(self):\n",
    "        print(\"in B.this\")\n",
    "\n",
    "class C(A,B):\n",
    "    def this(self):\n",
    "        print(\"in C.this\")\n",
    "        A.this(self)\n",
    "        B.this(self)"
   ]
  },
  {
   "cell_type": "code",
   "execution_count": 12,
   "metadata": {},
   "outputs": [
    {
     "name": "stdout",
     "output_type": "stream",
     "text": [
      "Running without super()\n",
      "in C.this\n",
      "in A.this\n",
      "in B.this\n"
     ]
    }
   ],
   "source": [
    "print(\"Running without super()\")\n",
    "c = C()\n",
    "c.this()"
   ]
  },
  {
   "cell_type": "markdown",
   "metadata": {},
   "source": [
    "C's `this` explicitly called both A and B's methods -- so they all get called."
   ]
  },
  {
   "cell_type": "markdown",
   "metadata": {},
   "source": [
    "### Using super in just C:\n",
    "\n",
    "Explicitly calling subclass methods gets tedious -- let's use super()"
   ]
  },
  {
   "cell_type": "code",
   "execution_count": 13,
   "metadata": {},
   "outputs": [],
   "source": [
    "class A():\n",
    "    def this(self):\n",
    "        print(\"in A.this\")\n",
    "\n",
    "class B(A):\n",
    "    def this(self):\n",
    "        print(\"in B.this\")\n",
    "\n",
    "class C(B):\n",
    "    def this(self):\n",
    "        print(\"in C.this\")\n",
    "        super().this()"
   ]
  },
  {
   "cell_type": "code",
   "execution_count": 14,
   "metadata": {},
   "outputs": [
    {
     "name": "stdout",
     "output_type": "stream",
     "text": [
      "<class '__main__.C'>\n",
      "<class '__main__.B'>\n",
      "<class '__main__.A'>\n",
      "<class 'object'>\n",
      "in C.this\n",
      "in B.this\n"
     ]
    }
   ],
   "source": [
    "for c in C.__mro__:\n",
    "    print(c)\n",
    "c = C()\n",
    "c.this()"
   ]
  },
  {
   "cell_type": "markdown",
   "metadata": {},
   "source": [
    "**Note:**  `A.this` did NOT get called!\n",
    "\n",
    "Even though it is in in the MRO.\n",
    "\n",
    "Python stopped when it found the method in B."
   ]
  },
  {
   "cell_type": "markdown",
   "metadata": {},
   "source": [
    "### Using super everywhere:"
   ]
  },
  {
   "cell_type": "code",
   "execution_count": 15,
   "metadata": {},
   "outputs": [],
   "source": [
    "class Base():\n",
    "    def this(self):\n",
    "        pass # just so there is a base that has the method\n",
    "\n",
    "class A(Base):\n",
    "    def this(self):\n",
    "        print(\"in A.this\")\n",
    "        super().this()\n",
    "\n",
    "class B(Base):\n",
    "    def this(self):\n",
    "        print(\"in B.this\")\n",
    "        super().this()\n",
    "class C(A,B):\n",
    "    def this(self):\n",
    "        print(\"in C.this\")\n",
    "        super().this()"
   ]
  },
  {
   "cell_type": "code",
   "execution_count": 16,
   "metadata": {},
   "outputs": [
    {
     "name": "stdout",
     "output_type": "stream",
     "text": [
      "in C.this\n",
      "in A.this\n",
      "in B.this\n",
      "(<class '__main__.Base'>, <class 'object'>)\n"
     ]
    }
   ],
   "source": [
    "c = C()\n",
    "c.this()\n",
    "print(Base.__mro__)"
   ]
  },
  {
   "cell_type": "markdown",
   "metadata": {},
   "source": [
    "Now both A and B's methods get called -- probably what you want.\n",
    "\n",
    "But if you don't want both called -- better to just be Explicit, rather than use super():"
   ]
  },
  {
   "cell_type": "code",
   "execution_count": 17,
   "metadata": {},
   "outputs": [],
   "source": [
    "class Base():\n",
    "    def this(self):\n",
    "        pass # just so there is a base that has the method\n",
    "\n",
    "class A(Base):\n",
    "    def this(self):\n",
    "        print(\"in A.this\")\n",
    "        super().this()\n",
    "\n",
    "class B(Base):\n",
    "    def this(self):\n",
    "        print(\"in B.this\")\n",
    "        super().this()\n",
    "\n",
    "class C(A,B):\n",
    "    def this(self):\n",
    "        print(\"in C.this\")\n",
    "        A.this(self)\n",
    "\n",
    "# note: not calling super() in C..."
   ]
  },
  {
   "cell_type": "code",
   "execution_count": 18,
   "metadata": {},
   "outputs": [
    {
     "name": "stdout",
     "output_type": "stream",
     "text": [
      "in C.this\n",
      "in A.this\n",
      "in B.this\n"
     ]
    }
   ],
   "source": [
    "c = C()\n",
    "c.this()"
   ]
  },
  {
   "cell_type": "markdown",
   "metadata": {},
   "source": [
    "**Whoa** -- A and B's method DID get called! -- why?\n",
    "\n",
    "We only called's A's `this` method."
   ]
  },
  {
   "cell_type": "code",
   "execution_count": 19,
   "metadata": {},
   "outputs": [
    {
     "data": {
      "text/plain": [
       "(__main__.A, __main__.Base, object)"
      ]
     },
     "execution_count": 19,
     "metadata": {},
     "output_type": "execute_result"
    }
   ],
   "source": [
    "A.__mro__"
   ]
  },
  {
   "cell_type": "markdown",
   "metadata": {},
   "source": [
    "B is not there.\n",
    "\n",
    "But:"
   ]
  },
  {
   "cell_type": "code",
   "execution_count": 20,
   "metadata": {},
   "outputs": [],
   "source": [
    "class Base():\n",
    "    def this(self):\n",
    "        pass # just so there is a base that has the method\n",
    "\n",
    "class A(Base):\n",
    "    def this(self):\n",
    "        print(\"in A.this\")\n",
    "        print(\"self's class:\", self.__class__)\n",
    "        super().this()\n",
    "\n",
    "class B(Base):\n",
    "    def this(self):\n",
    "        print(\"in B.this\")\n",
    "        super().this()\n",
    "\n",
    "class C(A,B):\n",
    "    def this(self):\n",
    "        print(\"in C.this\")\n",
    "        A.this(self)"
   ]
  },
  {
   "cell_type": "code",
   "execution_count": 21,
   "metadata": {},
   "outputs": [
    {
     "name": "stdout",
     "output_type": "stream",
     "text": [
      "in C.this\n",
      "in A.this\n",
      "self's class: <class '__main__.C'>\n",
      "in B.this\n",
      "C's MRO:\n",
      "<class '__main__.C'>\n",
      "<class '__main__.A'>\n",
      "<class '__main__.B'>\n",
      "<class '__main__.Base'>\n",
      "<class 'object'>\n"
     ]
    }
   ],
   "source": [
    "c = C()\n",
    "c.this()\n",
    "print(\"C's MRO:\")\n",
    "for c in C.__mro__:\n",
    "    print(c)"
   ]
  },
  {
   "cell_type": "markdown",
   "metadata": {},
   "source": [
    "Remember, `super()` is dynamic -- what it calls is determined at run time.\n",
    "\n",
    "That means A's `this` method knows that it's a C object when super is called. And C has B in it's MRO.\n",
    "\n",
    "That's how it knows to call ``B``'s method too. "
   ]
  },
  {
   "cell_type": "markdown",
   "metadata": {},
   "source": [
    "## Use `super` everywhere, or not at all\n",
    "\n",
    "If you don't want all the superclass' methods called, and want to be explicit, you need to not use `super` at all."
   ]
  },
  {
   "cell_type": "code",
   "execution_count": 22,
   "metadata": {},
   "outputs": [],
   "source": [
    "class Base():\n",
    "    def this(self):\n",
    "        pass # just so there is a base that has the method\n",
    "\n",
    "class A(Base):\n",
    "    def this(self):\n",
    "        print(\"in A.this\")\n",
    "        print(\"self's class:\", self.__class__)\n",
    "\n",
    "class B(Base):\n",
    "    def this(self):\n",
    "        print(\"in B.this\")\n",
    "\n",
    "class C(A,B):\n",
    "    def this(self):\n",
    "        print(\"in C.this\")\n",
    "        A.this(self)"
   ]
  },
  {
   "cell_type": "code",
   "execution_count": 23,
   "metadata": {},
   "outputs": [
    {
     "name": "stdout",
     "output_type": "stream",
     "text": [
      "in C.this\n",
      "in A.this\n",
      "self's class: <class '__main__.C'>\n"
     ]
    }
   ],
   "source": [
    "c = C()\n",
    "c.this()"
   ]
  },
  {
   "cell_type": "markdown",
   "metadata": {},
   "source": [
    "Without super, only the methods you specifically call get used.\n",
    "\n",
    "This is why we say that using `super()` is *part* of the interface of the class.\n"
   ]
  },
  {
   "cell_type": "code",
   "execution_count": null,
   "metadata": {},
   "outputs": [],
   "source": []
  }
 ],
 "metadata": {
  "kernelspec": {
   "display_name": "Python 3",
   "language": "python",
   "name": "python3"
  },
  "language_info": {
   "codemirror_mode": {
    "name": "ipython",
    "version": 3
   },
   "file_extension": ".py",
   "mimetype": "text/x-python",
   "name": "python",
   "nbconvert_exporter": "python",
   "pygments_lexer": "ipython3",
   "version": "3.6.2"
  }
 },
 "nbformat": 4,
 "nbformat_minor": 1
}
